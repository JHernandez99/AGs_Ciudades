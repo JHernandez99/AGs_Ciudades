{
 "cells": [
  {
   "metadata": {},
   "cell_type": "markdown",
   "source": [
    " ALGORITMO GENETICO TRADICIONAL PARA \n",
    "LA SOLUCION DEL PROBLEMA DE LAS CIUDADES   "
   ],
   "id": "6075700040b57d93"
  },
  {
   "metadata": {
    "ExecuteTime": {
     "end_time": "2024-08-14T15:06:43.230090Z",
     "start_time": "2024-08-14T15:06:43.224298Z"
    }
   },
   "cell_type": "code",
   "source": [
    "import pandas as pd\n",
    "import numpy as np\n",
    "import matplotlib.pyplot as plt\n",
    "import random\n",
    "import math"
   ],
   "id": "d802e2f83c73e01",
   "outputs": [],
   "execution_count": 76
  },
  {
   "metadata": {
    "ExecuteTime": {
     "end_time": "2024-08-14T15:06:43.376709Z",
     "start_time": "2024-08-14T15:06:43.339792Z"
    }
   },
   "cell_type": "code",
   "source": [
    "data = pd.read_excel('Ciudades.xlsx')\n",
    "data.describe()"
   ],
   "id": "bdf41fbfddd0a802",
   "outputs": [
    {
     "data": {
      "text/plain": [
       "               x          y\n",
       "count  28.000000  28.000000\n",
       "mean   52.214286  40.964286\n",
       "std    27.312129  28.356830\n",
       "min    10.000000   5.000000\n",
       "25%    29.500000  16.000000\n",
       "50%    54.000000  32.000000\n",
       "75%    77.250000  57.500000\n",
       "max    99.000000  99.000000"
      ],
      "text/html": [
       "<div>\n",
       "<style scoped>\n",
       "    .dataframe tbody tr th:only-of-type {\n",
       "        vertical-align: middle;\n",
       "    }\n",
       "\n",
       "    .dataframe tbody tr th {\n",
       "        vertical-align: top;\n",
       "    }\n",
       "\n",
       "    .dataframe thead th {\n",
       "        text-align: right;\n",
       "    }\n",
       "</style>\n",
       "<table border=\"1\" class=\"dataframe\">\n",
       "  <thead>\n",
       "    <tr style=\"text-align: right;\">\n",
       "      <th></th>\n",
       "      <th>x</th>\n",
       "      <th>y</th>\n",
       "    </tr>\n",
       "  </thead>\n",
       "  <tbody>\n",
       "    <tr>\n",
       "      <th>count</th>\n",
       "      <td>28.000000</td>\n",
       "      <td>28.000000</td>\n",
       "    </tr>\n",
       "    <tr>\n",
       "      <th>mean</th>\n",
       "      <td>52.214286</td>\n",
       "      <td>40.964286</td>\n",
       "    </tr>\n",
       "    <tr>\n",
       "      <th>std</th>\n",
       "      <td>27.312129</td>\n",
       "      <td>28.356830</td>\n",
       "    </tr>\n",
       "    <tr>\n",
       "      <th>min</th>\n",
       "      <td>10.000000</td>\n",
       "      <td>5.000000</td>\n",
       "    </tr>\n",
       "    <tr>\n",
       "      <th>25%</th>\n",
       "      <td>29.500000</td>\n",
       "      <td>16.000000</td>\n",
       "    </tr>\n",
       "    <tr>\n",
       "      <th>50%</th>\n",
       "      <td>54.000000</td>\n",
       "      <td>32.000000</td>\n",
       "    </tr>\n",
       "    <tr>\n",
       "      <th>75%</th>\n",
       "      <td>77.250000</td>\n",
       "      <td>57.500000</td>\n",
       "    </tr>\n",
       "    <tr>\n",
       "      <th>max</th>\n",
       "      <td>99.000000</td>\n",
       "      <td>99.000000</td>\n",
       "    </tr>\n",
       "  </tbody>\n",
       "</table>\n",
       "</div>"
      ]
     },
     "execution_count": 77,
     "metadata": {},
     "output_type": "execute_result"
    }
   ],
   "execution_count": 77
  },
  {
   "metadata": {
    "ExecuteTime": {
     "end_time": "2024-08-14T15:06:43.407908Z",
     "start_time": "2024-08-14T15:06:43.395656Z"
    }
   },
   "cell_type": "code",
   "source": "data.head(5)",
   "id": "d0d44b085d70181d",
   "outputs": [
    {
     "data": {
      "text/plain": [
       "  Ciudad   x   y\n",
       "0      A  10  12\n",
       "1      B  12  16\n",
       "2      C  22  22\n",
       "3      D  30  30\n",
       "4      E  35  28"
      ],
      "text/html": [
       "<div>\n",
       "<style scoped>\n",
       "    .dataframe tbody tr th:only-of-type {\n",
       "        vertical-align: middle;\n",
       "    }\n",
       "\n",
       "    .dataframe tbody tr th {\n",
       "        vertical-align: top;\n",
       "    }\n",
       "\n",
       "    .dataframe thead th {\n",
       "        text-align: right;\n",
       "    }\n",
       "</style>\n",
       "<table border=\"1\" class=\"dataframe\">\n",
       "  <thead>\n",
       "    <tr style=\"text-align: right;\">\n",
       "      <th></th>\n",
       "      <th>Ciudad</th>\n",
       "      <th>x</th>\n",
       "      <th>y</th>\n",
       "    </tr>\n",
       "  </thead>\n",
       "  <tbody>\n",
       "    <tr>\n",
       "      <th>0</th>\n",
       "      <td>A</td>\n",
       "      <td>10</td>\n",
       "      <td>12</td>\n",
       "    </tr>\n",
       "    <tr>\n",
       "      <th>1</th>\n",
       "      <td>B</td>\n",
       "      <td>12</td>\n",
       "      <td>16</td>\n",
       "    </tr>\n",
       "    <tr>\n",
       "      <th>2</th>\n",
       "      <td>C</td>\n",
       "      <td>22</td>\n",
       "      <td>22</td>\n",
       "    </tr>\n",
       "    <tr>\n",
       "      <th>3</th>\n",
       "      <td>D</td>\n",
       "      <td>30</td>\n",
       "      <td>30</td>\n",
       "    </tr>\n",
       "    <tr>\n",
       "      <th>4</th>\n",
       "      <td>E</td>\n",
       "      <td>35</td>\n",
       "      <td>28</td>\n",
       "    </tr>\n",
       "  </tbody>\n",
       "</table>\n",
       "</div>"
      ]
     },
     "execution_count": 78,
     "metadata": {},
     "output_type": "execute_result"
    }
   ],
   "execution_count": 78
  },
  {
   "metadata": {
    "ExecuteTime": {
     "end_time": "2024-08-14T15:06:43.449056Z",
     "start_time": "2024-08-14T15:06:43.436379Z"
    }
   },
   "cell_type": "code",
   "source": [
    "data = data.dropna(axis=0, how='any', ignore_index=True)\n",
    "data.head(100)\n"
   ],
   "id": "865442802d169660",
   "outputs": [
    {
     "data": {
      "text/plain": [
       "   Ciudad   x   y\n",
       "0       A  10  12\n",
       "1       B  12  16\n",
       "2       C  22  22\n",
       "3       D  30  30\n",
       "4       E  35  28\n",
       "5       F  53  15\n",
       "6       G  39   9\n",
       "7       H  45  16\n",
       "8       I  61   5\n",
       "9       J  69  23\n",
       "10      K  78  15\n",
       "11      L  85  17\n",
       "12      M  12  32\n",
       "13      N  16  42\n",
       "14      O  28  56\n",
       "15      P  28  12\n",
       "16      Q  62  55\n",
       "17      R  95  32\n",
       "18      S  84  53\n",
       "19      T  64  36\n",
       "20      U  31  62\n",
       "21      V  55  70\n",
       "22      W  45  55\n",
       "23      X  57  91\n",
       "24      Y  90  99\n",
       "25      Z  77  65\n",
       "26     AA  99  99\n",
       "27     AB  80  80"
      ],
      "text/html": [
       "<div>\n",
       "<style scoped>\n",
       "    .dataframe tbody tr th:only-of-type {\n",
       "        vertical-align: middle;\n",
       "    }\n",
       "\n",
       "    .dataframe tbody tr th {\n",
       "        vertical-align: top;\n",
       "    }\n",
       "\n",
       "    .dataframe thead th {\n",
       "        text-align: right;\n",
       "    }\n",
       "</style>\n",
       "<table border=\"1\" class=\"dataframe\">\n",
       "  <thead>\n",
       "    <tr style=\"text-align: right;\">\n",
       "      <th></th>\n",
       "      <th>Ciudad</th>\n",
       "      <th>x</th>\n",
       "      <th>y</th>\n",
       "    </tr>\n",
       "  </thead>\n",
       "  <tbody>\n",
       "    <tr>\n",
       "      <th>0</th>\n",
       "      <td>A</td>\n",
       "      <td>10</td>\n",
       "      <td>12</td>\n",
       "    </tr>\n",
       "    <tr>\n",
       "      <th>1</th>\n",
       "      <td>B</td>\n",
       "      <td>12</td>\n",
       "      <td>16</td>\n",
       "    </tr>\n",
       "    <tr>\n",
       "      <th>2</th>\n",
       "      <td>C</td>\n",
       "      <td>22</td>\n",
       "      <td>22</td>\n",
       "    </tr>\n",
       "    <tr>\n",
       "      <th>3</th>\n",
       "      <td>D</td>\n",
       "      <td>30</td>\n",
       "      <td>30</td>\n",
       "    </tr>\n",
       "    <tr>\n",
       "      <th>4</th>\n",
       "      <td>E</td>\n",
       "      <td>35</td>\n",
       "      <td>28</td>\n",
       "    </tr>\n",
       "    <tr>\n",
       "      <th>5</th>\n",
       "      <td>F</td>\n",
       "      <td>53</td>\n",
       "      <td>15</td>\n",
       "    </tr>\n",
       "    <tr>\n",
       "      <th>6</th>\n",
       "      <td>G</td>\n",
       "      <td>39</td>\n",
       "      <td>9</td>\n",
       "    </tr>\n",
       "    <tr>\n",
       "      <th>7</th>\n",
       "      <td>H</td>\n",
       "      <td>45</td>\n",
       "      <td>16</td>\n",
       "    </tr>\n",
       "    <tr>\n",
       "      <th>8</th>\n",
       "      <td>I</td>\n",
       "      <td>61</td>\n",
       "      <td>5</td>\n",
       "    </tr>\n",
       "    <tr>\n",
       "      <th>9</th>\n",
       "      <td>J</td>\n",
       "      <td>69</td>\n",
       "      <td>23</td>\n",
       "    </tr>\n",
       "    <tr>\n",
       "      <th>10</th>\n",
       "      <td>K</td>\n",
       "      <td>78</td>\n",
       "      <td>15</td>\n",
       "    </tr>\n",
       "    <tr>\n",
       "      <th>11</th>\n",
       "      <td>L</td>\n",
       "      <td>85</td>\n",
       "      <td>17</td>\n",
       "    </tr>\n",
       "    <tr>\n",
       "      <th>12</th>\n",
       "      <td>M</td>\n",
       "      <td>12</td>\n",
       "      <td>32</td>\n",
       "    </tr>\n",
       "    <tr>\n",
       "      <th>13</th>\n",
       "      <td>N</td>\n",
       "      <td>16</td>\n",
       "      <td>42</td>\n",
       "    </tr>\n",
       "    <tr>\n",
       "      <th>14</th>\n",
       "      <td>O</td>\n",
       "      <td>28</td>\n",
       "      <td>56</td>\n",
       "    </tr>\n",
       "    <tr>\n",
       "      <th>15</th>\n",
       "      <td>P</td>\n",
       "      <td>28</td>\n",
       "      <td>12</td>\n",
       "    </tr>\n",
       "    <tr>\n",
       "      <th>16</th>\n",
       "      <td>Q</td>\n",
       "      <td>62</td>\n",
       "      <td>55</td>\n",
       "    </tr>\n",
       "    <tr>\n",
       "      <th>17</th>\n",
       "      <td>R</td>\n",
       "      <td>95</td>\n",
       "      <td>32</td>\n",
       "    </tr>\n",
       "    <tr>\n",
       "      <th>18</th>\n",
       "      <td>S</td>\n",
       "      <td>84</td>\n",
       "      <td>53</td>\n",
       "    </tr>\n",
       "    <tr>\n",
       "      <th>19</th>\n",
       "      <td>T</td>\n",
       "      <td>64</td>\n",
       "      <td>36</td>\n",
       "    </tr>\n",
       "    <tr>\n",
       "      <th>20</th>\n",
       "      <td>U</td>\n",
       "      <td>31</td>\n",
       "      <td>62</td>\n",
       "    </tr>\n",
       "    <tr>\n",
       "      <th>21</th>\n",
       "      <td>V</td>\n",
       "      <td>55</td>\n",
       "      <td>70</td>\n",
       "    </tr>\n",
       "    <tr>\n",
       "      <th>22</th>\n",
       "      <td>W</td>\n",
       "      <td>45</td>\n",
       "      <td>55</td>\n",
       "    </tr>\n",
       "    <tr>\n",
       "      <th>23</th>\n",
       "      <td>X</td>\n",
       "      <td>57</td>\n",
       "      <td>91</td>\n",
       "    </tr>\n",
       "    <tr>\n",
       "      <th>24</th>\n",
       "      <td>Y</td>\n",
       "      <td>90</td>\n",
       "      <td>99</td>\n",
       "    </tr>\n",
       "    <tr>\n",
       "      <th>25</th>\n",
       "      <td>Z</td>\n",
       "      <td>77</td>\n",
       "      <td>65</td>\n",
       "    </tr>\n",
       "    <tr>\n",
       "      <th>26</th>\n",
       "      <td>AA</td>\n",
       "      <td>99</td>\n",
       "      <td>99</td>\n",
       "    </tr>\n",
       "    <tr>\n",
       "      <th>27</th>\n",
       "      <td>AB</td>\n",
       "      <td>80</td>\n",
       "      <td>80</td>\n",
       "    </tr>\n",
       "  </tbody>\n",
       "</table>\n",
       "</div>"
      ]
     },
     "execution_count": 79,
     "metadata": {},
     "output_type": "execute_result"
    }
   ],
   "execution_count": 79
  },
  {
   "metadata": {
    "ExecuteTime": {
     "end_time": "2024-08-14T15:06:43.479749Z",
     "start_time": "2024-08-14T15:06:43.472992Z"
    }
   },
   "cell_type": "code",
   "source": [
    "#data.count()\n",
    "test =  data.loc[data['Ciudad'] == 'A']\n",
    "print(test.iloc[0]['x'])\n",
    "print(test.iloc[0]['y'])\n",
    "\n"
   ],
   "id": "f3932c46fc2ab34e",
   "outputs": [
    {
     "name": "stdout",
     "output_type": "stream",
     "text": [
      "10\n",
      "12\n"
     ]
    }
   ],
   "execution_count": 80
  },
  {
   "metadata": {
    "ExecuteTime": {
     "end_time": "2024-08-14T15:06:43.534016Z",
     "start_time": "2024-08-14T15:06:43.525343Z"
    }
   },
   "cell_type": "code",
   "source": [
    "lbls = data.iloc[:,0].values\n",
    "x = data.iloc[:, 1]\n",
    "y = data.iloc[:, 2]\n",
    "print(lbls)\n",
    "print(x)\n",
    "print(y)\n"
   ],
   "id": "ffc2f0ea2027258c",
   "outputs": [
    {
     "name": "stdout",
     "output_type": "stream",
     "text": [
      "['A' 'B' 'C' 'D' 'E' 'F' 'G' 'H' 'I' 'J' 'K' 'L' 'M' 'N' 'O' 'P' 'Q' 'R'\n",
      " 'S' 'T' 'U' 'V' 'W' 'X' 'Y' 'Z' 'AA' 'AB']\n",
      "0     10\n",
      "1     12\n",
      "2     22\n",
      "3     30\n",
      "4     35\n",
      "5     53\n",
      "6     39\n",
      "7     45\n",
      "8     61\n",
      "9     69\n",
      "10    78\n",
      "11    85\n",
      "12    12\n",
      "13    16\n",
      "14    28\n",
      "15    28\n",
      "16    62\n",
      "17    95\n",
      "18    84\n",
      "19    64\n",
      "20    31\n",
      "21    55\n",
      "22    45\n",
      "23    57\n",
      "24    90\n",
      "25    77\n",
      "26    99\n",
      "27    80\n",
      "Name: x, dtype: int64\n",
      "0     12\n",
      "1     16\n",
      "2     22\n",
      "3     30\n",
      "4     28\n",
      "5     15\n",
      "6      9\n",
      "7     16\n",
      "8      5\n",
      "9     23\n",
      "10    15\n",
      "11    17\n",
      "12    32\n",
      "13    42\n",
      "14    56\n",
      "15    12\n",
      "16    55\n",
      "17    32\n",
      "18    53\n",
      "19    36\n",
      "20    62\n",
      "21    70\n",
      "22    55\n",
      "23    91\n",
      "24    99\n",
      "25    65\n",
      "26    99\n",
      "27    80\n",
      "Name: y, dtype: int64\n"
     ]
    }
   ],
   "execution_count": 81
  },
  {
   "metadata": {
    "ExecuteTime": {
     "end_time": "2024-08-14T15:06:43.807432Z",
     "start_time": "2024-08-14T15:06:43.655781Z"
    }
   },
   "cell_type": "code",
   "source": [
    "fig, ax = plt.subplots()\n",
    "ax.plot(x,y,'ro')\n",
    "for i, text in enumerate(lbls):\n",
    "    ax.text(x[i],y[i],text)\n",
    "plt.show()"
   ],
   "id": "2f23c187b9061a97",
   "outputs": [
    {
     "data": {
      "text/plain": [
       "<Figure size 640x480 with 1 Axes>"
      ],
      "image/png": "[encoded data removed]"
     },
     "metadata": {},
     "output_type": "display_data"
    }
   ],
   "execution_count": 82
  },
  {
   "metadata": {},
   "cell_type": "markdown",
   "source": [
    "# Se inicia con el desarrollo del algoritmo genetico\n",
    "\n",
    "#### Generar poblacion aleatoria"
   ],
   "id": "ebef939a675b8894"
  },
  {
   "metadata": {
    "ExecuteTime": {
     "end_time": "2024-08-14T15:06:43.907101Z",
     "start_time": "2024-08-14T15:06:43.901362Z"
    }
   },
   "cell_type": "code",
   "source": [
    "def generarPoblacionAleatoria(tam_poblacion,labels):\n",
    "    poblacion = []\n",
    "    num_ciudades = len(lbls)\n",
    "    for i in range(tam_poblacion):\n",
    "        individuo = []\n",
    "        while(len(individuo) <num_ciudades):\n",
    "        #for j in range(num_ciudades):\n",
    "            label = random.choice(labels)\n",
    "            if label not in individuo:\n",
    "                individuo.append(label) \n",
    "        poblacion.append(individuo)\n",
    "    return poblacion"
   ],
   "id": "f897da60b86cb387",
   "outputs": [],
   "execution_count": 83
  },
  {
   "metadata": {},
   "cell_type": "markdown",
   "source": "### Evaluar la poblacion",
   "id": "bfde16c5f0c65e92"
  },
  {
   "metadata": {
    "ExecuteTime": {
     "end_time": "2024-08-14T15:06:43.948608Z",
     "start_time": "2024-08-14T15:06:43.939012Z"
    }
   },
   "cell_type": "code",
   "source": [
    "def fitness(poblacion,x,y,data):\n",
    "    distancias = []\n",
    "    \n",
    "    for individuo in poblacion:\n",
    "        distancia = 0\n",
    "        #print(\"individo\")\n",
    "        #print(individuo)\n",
    "        for i in range(len(individuo)-1):\n",
    "            ind1 = data.loc[data['Ciudad'] == individuo[i]]\n",
    "            ind2 = data.loc[data['Ciudad'] == individuo[i+1]]\n",
    "            xind1 = ind1.iloc[0]['x']\n",
    "            yind1 = ind1.iloc[0]['y']\n",
    "            xind2 = ind2.iloc[0]['x']\n",
    "            yind2 = ind2.iloc[0]['y']\n",
    "            \n",
    "            dist = math.sqrt((xind2-xind1)**2+(yind2-yind1)**2)\n",
    "            #print(dist)\n",
    "            distancia +=dist\n",
    "        distancias.append(distancia)\n",
    "            \n",
    "            \n",
    "    return distancias\n",
    "        "
   ],
   "id": "d510a507d5973e09",
   "outputs": [],
   "execution_count": 84
  },
  {
   "metadata": {
    "ExecuteTime": {
     "end_time": "2024-08-14T15:06:44.053198Z",
     "start_time": "2024-08-14T15:06:44.047296Z"
    }
   },
   "cell_type": "code",
   "source": [
    "def selection(poblacion,distancias):\n",
    "    combinados = list(zip(distancias, poblacion))\n",
    "    combinados_ordenados = sorted(combinados)\n",
    "    dist, pob = zip(*combinados_ordenados)\n",
    "    \n",
    "    return pob[0:int(len(poblacion)/2)],dist[0:int(len(poblacion)/2)]\n",
    "    "
   ],
   "id": "626afb0e784fe445",
   "outputs": [],
   "execution_count": 85
  },
  {
   "metadata": {
    "ExecuteTime": {
     "end_time": "2024-08-14T15:06:44.103552Z",
     "start_time": "2024-08-14T15:06:44.095085Z"
    }
   },
   "cell_type": "code",
   "source": [
    "def quitarDuplicados(hijo,lbls):\n",
    "    #FUNCION PARA QUITAR LAS LETRAS DUPLICADAS Y COLOCAR LAS FALTANTES\n",
    "    letras_usadas = set(hijo)\n",
    "    letras_faltantes = []\n",
    "    for letra in lbls:\n",
    "        if letra not in letras_usadas:\n",
    "            letras_faltantes.append(letra)\n",
    "    res = []\n",
    "    for letra in hijo:\n",
    "        if letra in letras_usadas:\n",
    "            res.append(letra)\n",
    "            letras_usadas.remove(letra)\n",
    "        else:\n",
    "            res.append(None)\n",
    "    #la lista tiene posiciones vacias donde hay repetidos\n",
    "    id = 0\n",
    "    for i in range(len(res)):\n",
    "        if res[i] is None:\n",
    "            res[i] = letras_faltantes[id]\n",
    "            id +=1\n",
    "    return res\n",
    "        \n",
    "            "
   ],
   "id": "a40254da947bd83f",
   "outputs": [],
   "execution_count": 86
  },
  {
   "metadata": {
    "ExecuteTime": {
     "end_time": "2024-08-14T15:06:44.218241Z",
     "start_time": "2024-08-14T15:06:44.207271Z"
    }
   },
   "cell_type": "code",
   "source": [
    "def cruza_mutacion(progenitores,prob_cruza,prob_muta,lbls):\n",
    "    hijos_nuevos = []\n",
    "    for i in range(0,len(progenitores)-1,2):\n",
    "        \n",
    "        #seleccion de los padres\n",
    "        padre1 = progenitores[i]\n",
    "        padre2 = progenitores[i+1]\n",
    "        \n",
    "        if random.random() < prob_cruza:\n",
    "            #seleccion punto de cruza\n",
    "            punto1 = random.randint(1, len(padre1)-2)\n",
    "            punto2 = random.randint(punto1+1, len(padre1)-1)    \n",
    "            \n",
    "            #creacion de hijos\n",
    "            hijo1 = padre1[:punto1] + padre2[punto1:punto2] + padre1[punto2:] \n",
    "            hijo2 = padre2[:punto1] + padre1[punto1:punto2] + padre2[punto2:]\n",
    "            \n",
    "            #quitar repetidos y colocar los faltantes\n",
    "            hijo1 = quitarDuplicados(hijo1,lbls)\n",
    "            hijo2 = quitarDuplicados(hijo2,lbls)\n",
    "            \n",
    "            \n",
    "        else: \n",
    "            hijo1 = padre1\n",
    "            hijo2 = padre2\n",
    "        \n",
    "        if random.random() < prob_muta:\n",
    "            print(\"Generando muta\")\n",
    "            punto_muta1 = random.randint(0,len(hijo1)-1)\n",
    "            punto_muta2 = random.randint(0,len(hijo2)-1)\n",
    "            aux1 = hijo1[punto_muta1]\n",
    "            hijo1[punto_muta1] = hijo1[punto_muta2]\n",
    "            hijo1[punto_muta2] = aux1\n",
    "            aux2 = hijo2[punto_muta1]\n",
    "            hijo2[punto_muta1] = hijo2[punto_muta2]\n",
    "            hijo2[punto_muta2] = aux2\n",
    "            \n",
    "        #AGREGO NUEVOS HIJOS A LA LISTA    \n",
    "        hijos_nuevos.append(hijo1)\n",
    "        hijos_nuevos.append(hijo2)\n",
    "    \n",
    "    return hijos_nuevos\n",
    "        \n",
    "        \n",
    "        "
   ],
   "id": "f837478252b6096d",
   "outputs": [],
   "execution_count": 87
  },
  {
   "metadata": {},
   "cell_type": "markdown",
   "source": "# funcion principal\n",
   "id": "6d04d90e59eaeef4"
  },
  {
   "metadata": {
    "ExecuteTime": {
     "end_time": "2024-08-14T15:06:44.718206Z",
     "start_time": "2024-08-14T15:06:44.232228Z"
    }
   },
   "cell_type": "code",
   "source": [
    "#generar poblacion aleatoria\n",
    "tam_poblacion = 20\n",
    "probabilidad_cruza = 0.5\n",
    "probabilidad_muta = 0.0\n",
    "generaciones = 100\n",
    "\n",
    "\n",
    "poblacion = generarPoblacionAleatoria(tam_poblacion,lbls)\n",
    "#evaluacion de la poblacion\n",
    "distancias = fitness(poblacion,x,y,data)\n",
    "#seleccion\n",
    "seleccionados,distancias_seleccionados = selection(poblacion,distancias)\n",
    "#print(len(seleccionados))\n",
    "#cruza y mutacion\n",
    "nuevos_hijos = cruza_mutacion(seleccionados,probabilidad_cruza,probabilidad_muta,lbls)\n",
    "\n",
    "#unir poblacion final\n",
    "poblacion = list(seleccionados)+nuevos_hijos\n",
    "print(distancias[0])\n",
    "\n"
   ],
   "id": "1ae60a3a7bc4097d",
   "outputs": [
    {
     "name": "stdout",
     "output_type": "stream",
     "text": [
      "1399.2131856353083\n"
     ]
    }
   ],
   "execution_count": 88
  },
  {
   "metadata": {
    "ExecuteTime": {
     "end_time": "2024-08-14T15:06:44.726623Z",
     "start_time": "2024-08-14T15:06:44.719728Z"
    }
   },
   "cell_type": "code",
   "source": [
    "punto1 = random.randint(1, len(seleccionados[0])-2)\n",
    "punto2 = random.randint(punto1+1, len(seleccionados[0])-1)\n",
    "print(punto1,punto2,len(seleccionados[0]))"
   ],
   "id": "da492b844cb8055e",
   "outputs": [
    {
     "name": "stdout",
     "output_type": "stream",
     "text": [
      "26 27 28\n"
     ]
    }
   ],
   "execution_count": 89
  },
  {
   "metadata": {
    "ExecuteTime": {
     "end_time": "2024-08-14T15:09:47.982061Z",
     "start_time": "2024-08-14T15:06:44.728617Z"
    }
   },
   "cell_type": "code",
   "source": [
    "#generar poblacion aleatoria\n",
    "tam_poblacion = 100\n",
    "probabilidad_cruza = 0.25\n",
    "probabilidad_muta = 0.05\n",
    "generaciones = 50\n",
    "\n",
    "\n",
    "poblacion = generarPoblacionAleatoria(tam_poblacion,lbls)\n",
    "num_generaciones = 0\n",
    "\n",
    "mejor_individuo = []\n",
    "mejor_distancia = 0\n",
    "hist_individuos = []\n",
    "hist_distancias = []\n",
    "while(num_generaciones < generaciones):\n",
    "    \n",
    "    #evaluacion de la poblacion\n",
    "    distancias = fitness(poblacion,x,y,data)\n",
    "    #seleccion\n",
    "    seleccionados,distancias_seleccionados = selection(poblacion,distancias)\n",
    "    #print(len(seleccionados))\n",
    "    #cruza y mutacion\n",
    "    nuevos_hijos = cruza_mutacion(seleccionados,probabilidad_cruza,probabilidad_muta, lbls)\n",
    "    \n",
    "    #unir poblacion final\n",
    "    poblacion = list(seleccionados)+nuevos_hijos\n",
    "    \n",
    "    distancias = fitness(poblacion,x,y,data)\n",
    "    seleccionados,distancias_seleccionados = selection(poblacion,distancias)\n",
    "    mejor_individuo = seleccionados[0]\n",
    "    mejor_distancia = distancias_seleccionados[0]\n",
    "    \n",
    "    hist_individuos.append(mejor_individuo)\n",
    "    hist_distancias.append(mejor_distancia)\n",
    "    \n",
    "    print(\"GENERACION ---{} MEJOR DISTANCIA----{} MEJOR_INDIVIDUO---{}\".format(num_generaciones,mejor_distancia,mejor_individuo))\n",
    "    num_generaciones += 1\n",
    "    \n",
    "    \n"
   ],
   "id": "252b49f11c1d12ff",
   "outputs": [
    {
     "name": "stdout",
     "output_type": "stream",
     "text": [
      "Generando muta\n",
      "Generando muta\n",
      "Generando muta\n",
      "GENERACION ---0 MEJOR DISTANCIA----1062.3446417174562 MEJOR_INDIVIDUO---['M', 'U', 'AA', 'E', 'D', 'G', 'P', 'B', 'Y', 'AB', 'V', 'R', 'N', 'A', 'C', 'O', 'L', 'S', 'X', 'H', 'J', 'K', 'W', 'Q', 'Z', 'T', 'F', 'I']\n",
      "GENERACION ---1 MEJOR DISTANCIA----1062.3446417174562 MEJOR_INDIVIDUO---['M', 'U', 'AA', 'E', 'D', 'G', 'P', 'B', 'Y', 'AB', 'V', 'R', 'N', 'A', 'C', 'O', 'L', 'S', 'X', 'H', 'J', 'K', 'W', 'Q', 'Z', 'T', 'F', 'I']\n",
      "Generando muta\n",
      "Generando muta\n",
      "GENERACION ---2 MEJOR DISTANCIA----1069.483885963686 MEJOR_INDIVIDUO---['M', 'B', 'C', 'Q', 'G', 'P', 'N', 'U', 'X', 'Z', 'D', 'F', 'I', 'R', 'S', 'H', 'W', 'T', 'J', 'E', 'AA', 'AB', 'V', 'K', 'L', 'Y', 'A', 'O']\n",
      "Generando muta\n",
      "Generando muta\n",
      "Generando muta\n",
      "GENERACION ---3 MEJOR DISTANCIA----1069.483885963686 MEJOR_INDIVIDUO---['M', 'B', 'C', 'Q', 'G', 'P', 'N', 'U', 'X', 'Z', 'D', 'F', 'I', 'R', 'S', 'H', 'W', 'T', 'J', 'E', 'AA', 'AB', 'V', 'K', 'L', 'Y', 'A', 'O']\n",
      "Generando muta\n",
      "Generando muta\n",
      "GENERACION ---4 MEJOR DISTANCIA----1069.483885963686 MEJOR_INDIVIDUO---['M', 'B', 'C', 'Q', 'G', 'P', 'N', 'U', 'X', 'Z', 'D', 'F', 'I', 'R', 'S', 'H', 'W', 'T', 'J', 'E', 'AA', 'AB', 'V', 'K', 'L', 'Y', 'A', 'O']\n",
      "Generando muta\n",
      "Generando muta\n",
      "GENERACION ---5 MEJOR DISTANCIA----1069.483885963686 MEJOR_INDIVIDUO---['M', 'B', 'C', 'Q', 'G', 'P', 'N', 'U', 'X', 'Z', 'D', 'F', 'I', 'R', 'S', 'H', 'W', 'T', 'J', 'E', 'AA', 'AB', 'V', 'K', 'L', 'Y', 'A', 'O']\n",
      "Generando muta\n",
      "Generando muta\n",
      "Generando muta\n",
      "Generando muta\n",
      "GENERACION ---6 MEJOR DISTANCIA----1044.4894929933557 MEJOR_INDIVIDUO---['G', 'W', 'AA', 'Q', 'K', 'Z', 'S', 'V', 'T', 'L', 'O', 'C', 'A', 'U', 'E', 'M', 'B', 'D', 'N', 'P', 'J', 'R', 'I', 'X', 'AB', 'Y', 'F', 'H']\n",
      "Generando muta\n",
      "Generando muta\n",
      "GENERACION ---7 MEJOR DISTANCIA----1044.4894929933557 MEJOR_INDIVIDUO---['G', 'W', 'AA', 'Q', 'K', 'Z', 'S', 'V', 'T', 'L', 'O', 'C', 'A', 'U', 'E', 'M', 'B', 'D', 'N', 'P', 'J', 'R', 'I', 'X', 'AB', 'Y', 'F', 'H']\n",
      "Generando muta\n",
      "Generando muta\n",
      "GENERACION ---8 MEJOR DISTANCIA----1042.1537392849482 MEJOR_INDIVIDUO---['G', 'W', 'AA', 'Q', 'K', 'Z', 'S', 'V', 'T', 'H', 'O', 'C', 'A', 'U', 'E', 'M', 'B', 'D', 'N', 'P', 'J', 'R', 'I', 'X', 'AB', 'Y', 'F', 'L']\n",
      "Generando muta\n",
      "Generando muta\n",
      "GENERACION ---9 MEJOR DISTANCIA----1042.1537392849482 MEJOR_INDIVIDUO---['G', 'W', 'AA', 'Q', 'K', 'Z', 'S', 'V', 'T', 'H', 'O', 'C', 'A', 'U', 'E', 'M', 'B', 'D', 'N', 'P', 'J', 'R', 'I', 'X', 'AB', 'Y', 'F', 'L']\n",
      "Generando muta\n",
      "Generando muta\n",
      "Generando muta\n",
      "GENERACION ---10 MEJOR DISTANCIA----1042.1537392849482 MEJOR_INDIVIDUO---['G', 'W', 'AA', 'Q', 'K', 'Z', 'S', 'V', 'T', 'H', 'O', 'C', 'A', 'U', 'E', 'M', 'B', 'D', 'N', 'P', 'J', 'R', 'I', 'X', 'AB', 'Y', 'F', 'L']\n",
      "Generando muta\n",
      "GENERACION ---11 MEJOR DISTANCIA----1042.1537392849482 MEJOR_INDIVIDUO---['G', 'W', 'AA', 'Q', 'K', 'Z', 'S', 'V', 'T', 'H', 'O', 'C', 'A', 'U', 'E', 'M', 'B', 'D', 'N', 'P', 'J', 'R', 'I', 'X', 'AB', 'Y', 'F', 'L']\n",
      "Generando muta\n",
      "Generando muta\n",
      "Generando muta\n",
      "GENERACION ---12 MEJOR DISTANCIA----1020.3305702320802 MEJOR_INDIVIDUO---['G', 'P', 'AA', 'Q', 'K', 'Z', 'S', 'V', 'T', 'W', 'O', 'E', 'A', 'U', 'C', 'M', 'B', 'D', 'N', 'L', 'J', 'R', 'I', 'X', 'AB', 'Y', 'F', 'H']\n",
      "Generando muta\n",
      "Generando muta\n",
      "Generando muta\n",
      "GENERACION ---13 MEJOR DISTANCIA----1020.3305702320802 MEJOR_INDIVIDUO---['G', 'P', 'AA', 'Q', 'K', 'Z', 'S', 'V', 'T', 'W', 'O', 'E', 'A', 'U', 'C', 'M', 'B', 'D', 'N', 'L', 'J', 'R', 'I', 'X', 'AB', 'Y', 'F', 'H']\n",
      "GENERACION ---14 MEJOR DISTANCIA----1020.3305702320802 MEJOR_INDIVIDUO---['G', 'P', 'AA', 'Q', 'K', 'Z', 'S', 'V', 'T', 'W', 'O', 'E', 'A', 'U', 'C', 'M', 'B', 'D', 'N', 'L', 'J', 'R', 'I', 'X', 'AB', 'Y', 'F', 'H']\n",
      "GENERACION ---15 MEJOR DISTANCIA----1020.3305702320802 MEJOR_INDIVIDUO---['G', 'P', 'AA', 'Q', 'K', 'Z', 'S', 'V', 'T', 'W', 'O', 'E', 'A', 'U', 'C', 'M', 'B', 'D', 'N', 'L', 'J', 'R', 'I', 'X', 'AB', 'Y', 'F', 'H']\n",
      "Generando muta\n",
      "Generando muta\n",
      "GENERACION ---16 MEJOR DISTANCIA----993.7580741384068 MEJOR_INDIVIDUO---['G', 'P', 'AA', 'Q', 'K', 'Z', 'S', 'V', 'T', 'W', 'O', 'E', 'A', 'U', 'C', 'M', 'B', 'D', 'N', 'J', 'L', 'R', 'I', 'X', 'AB', 'Y', 'F', 'H']\n",
      "GENERACION ---17 MEJOR DISTANCIA----993.7580741384068 MEJOR_INDIVIDUO---['G', 'P', 'AA', 'Q', 'K', 'Z', 'S', 'V', 'T', 'W', 'O', 'E', 'A', 'U', 'C', 'M', 'B', 'D', 'N', 'J', 'L', 'R', 'I', 'X', 'AB', 'Y', 'F', 'H']\n",
      "Generando muta\n",
      "GENERACION ---18 MEJOR DISTANCIA----993.7580741384068 MEJOR_INDIVIDUO---['G', 'P', 'AA', 'Q', 'K', 'Z', 'S', 'V', 'T', 'W', 'O', 'E', 'A', 'U', 'C', 'M', 'B', 'D', 'N', 'J', 'L', 'R', 'I', 'X', 'AB', 'Y', 'F', 'H']\n",
      "Generando muta\n",
      "Generando muta\n",
      "Generando muta\n",
      "Generando muta\n",
      "GENERACION ---19 MEJOR DISTANCIA----946.6587560011268 MEJOR_INDIVIDUO---['G', 'P', 'T', 'Q', 'K', 'Z', 'S', 'V', 'AA', 'W', 'O', 'E', 'A', 'U', 'C', 'M', 'B', 'D', 'N', 'J', 'L', 'R', 'I', 'X', 'AB', 'Y', 'F', 'H']\n",
      "Generando muta\n",
      "GENERACION ---20 MEJOR DISTANCIA----946.6587560011268 MEJOR_INDIVIDUO---['G', 'P', 'T', 'Q', 'K', 'Z', 'S', 'V', 'AA', 'W', 'O', 'E', 'A', 'U', 'C', 'M', 'B', 'D', 'N', 'J', 'L', 'R', 'I', 'X', 'AB', 'Y', 'F', 'H']\n",
      "Generando muta\n",
      "Generando muta\n",
      "GENERACION ---21 MEJOR DISTANCIA----946.6587560011268 MEJOR_INDIVIDUO---['G', 'P', 'T', 'Q', 'K', 'Z', 'S', 'V', 'AA', 'W', 'O', 'E', 'A', 'U', 'C', 'M', 'B', 'D', 'N', 'J', 'L', 'R', 'I', 'X', 'AB', 'Y', 'F', 'H']\n",
      "Generando muta\n",
      "Generando muta\n",
      "Generando muta\n",
      "GENERACION ---22 MEJOR DISTANCIA----946.6587560011268 MEJOR_INDIVIDUO---['G', 'P', 'T', 'Q', 'K', 'Z', 'S', 'V', 'AA', 'W', 'O', 'E', 'A', 'U', 'C', 'M', 'B', 'D', 'N', 'J', 'L', 'R', 'I', 'X', 'AB', 'Y', 'F', 'H']\n",
      "Generando muta\n",
      "Generando muta\n",
      "GENERACION ---23 MEJOR DISTANCIA----946.6587560011268 MEJOR_INDIVIDUO---['G', 'P', 'T', 'Q', 'K', 'Z', 'S', 'V', 'AA', 'W', 'O', 'E', 'A', 'U', 'C', 'M', 'B', 'D', 'N', 'J', 'L', 'R', 'I', 'X', 'AB', 'Y', 'F', 'H']\n",
      "Generando muta\n",
      "GENERACION ---24 MEJOR DISTANCIA----946.6587560011268 MEJOR_INDIVIDUO---['G', 'P', 'T', 'Q', 'K', 'Z', 'S', 'V', 'AA', 'W', 'O', 'E', 'A', 'U', 'C', 'M', 'B', 'D', 'N', 'J', 'L', 'R', 'I', 'X', 'AB', 'Y', 'F', 'H']\n",
      "GENERACION ---25 MEJOR DISTANCIA----946.6587560011268 MEJOR_INDIVIDUO---['G', 'P', 'T', 'Q', 'K', 'Z', 'S', 'V', 'AA', 'W', 'O', 'E', 'A', 'U', 'C', 'M', 'B', 'D', 'N', 'J', 'L', 'R', 'I', 'X', 'AB', 'Y', 'F', 'H']\n",
      "GENERACION ---26 MEJOR DISTANCIA----946.6587560011268 MEJOR_INDIVIDUO---['G', 'P', 'T', 'Q', 'K', 'Z', 'S', 'V', 'AA', 'W', 'O', 'E', 'A', 'U', 'C', 'M', 'B', 'D', 'N', 'J', 'L', 'R', 'I', 'X', 'AB', 'Y', 'F', 'H']\n",
      "GENERACION ---27 MEJOR DISTANCIA----946.6587560011268 MEJOR_INDIVIDUO---['G', 'P', 'T', 'Q', 'K', 'Z', 'S', 'V', 'AA', 'W', 'O', 'E', 'A', 'U', 'C', 'M', 'B', 'D', 'N', 'J', 'L', 'R', 'I', 'X', 'AB', 'Y', 'F', 'H']\n",
      "Generando muta\n",
      "GENERACION ---28 MEJOR DISTANCIA----931.4246773748033 MEJOR_INDIVIDUO---['G', 'P', 'T', 'Q', 'V', 'Z', 'S', 'K', 'AA', 'W', 'O', 'E', 'A', 'U', 'C', 'M', 'B', 'D', 'N', 'J', 'L', 'R', 'I', 'X', 'AB', 'Y', 'F', 'H']\n",
      "GENERACION ---29 MEJOR DISTANCIA----931.4246773748033 MEJOR_INDIVIDUO---['G', 'P', 'T', 'Q', 'V', 'Z', 'S', 'K', 'AA', 'W', 'O', 'E', 'A', 'U', 'C', 'M', 'B', 'D', 'N', 'J', 'L', 'R', 'I', 'X', 'AB', 'Y', 'F', 'H']\n",
      "GENERACION ---30 MEJOR DISTANCIA----931.4246773748033 MEJOR_INDIVIDUO---['G', 'P', 'T', 'Q', 'V', 'Z', 'S', 'K', 'AA', 'W', 'O', 'E', 'A', 'U', 'C', 'M', 'B', 'D', 'N', 'J', 'L', 'R', 'I', 'X', 'AB', 'Y', 'F', 'H']\n",
      "Generando muta\n",
      "Generando muta\n",
      "GENERACION ---31 MEJOR DISTANCIA----931.4246773748033 MEJOR_INDIVIDUO---['G', 'P', 'T', 'Q', 'V', 'Z', 'S', 'K', 'AA', 'W', 'O', 'E', 'A', 'U', 'C', 'M', 'B', 'D', 'N', 'J', 'L', 'R', 'I', 'X', 'AB', 'Y', 'F', 'H']\n",
      "Generando muta\n",
      "Generando muta\n",
      "Generando muta\n",
      "GENERACION ---32 MEJOR DISTANCIA----931.4246773748033 MEJOR_INDIVIDUO---['G', 'P', 'T', 'Q', 'V', 'Z', 'S', 'K', 'AA', 'W', 'O', 'E', 'A', 'U', 'C', 'M', 'B', 'D', 'N', 'J', 'L', 'R', 'I', 'X', 'AB', 'Y', 'F', 'H']\n",
      "Generando muta\n",
      "Generando muta\n",
      "GENERACION ---33 MEJOR DISTANCIA----931.4246773748033 MEJOR_INDIVIDUO---['G', 'P', 'T', 'Q', 'V', 'Z', 'S', 'K', 'AA', 'W', 'O', 'E', 'A', 'U', 'C', 'M', 'B', 'D', 'N', 'J', 'L', 'R', 'I', 'X', 'AB', 'Y', 'F', 'H']\n",
      "GENERACION ---34 MEJOR DISTANCIA----931.4246773748033 MEJOR_INDIVIDUO---['G', 'P', 'T', 'Q', 'V', 'Z', 'S', 'K', 'AA', 'W', 'O', 'E', 'A', 'U', 'C', 'M', 'B', 'D', 'N', 'J', 'L', 'R', 'I', 'X', 'AB', 'Y', 'F', 'H']\n",
      "Generando muta\n",
      "Generando muta\n",
      "Generando muta\n",
      "Generando muta\n",
      "GENERACION ---35 MEJOR DISTANCIA----931.4246773748033 MEJOR_INDIVIDUO---['G', 'P', 'T', 'Q', 'V', 'Z', 'S', 'K', 'AA', 'W', 'O', 'E', 'A', 'U', 'C', 'M', 'B', 'D', 'N', 'J', 'L', 'R', 'I', 'X', 'AB', 'Y', 'F', 'H']\n",
      "GENERACION ---36 MEJOR DISTANCIA----931.4246773748033 MEJOR_INDIVIDUO---['G', 'P', 'T', 'Q', 'V', 'Z', 'S', 'K', 'AA', 'W', 'O', 'E', 'A', 'U', 'C', 'M', 'B', 'D', 'N', 'J', 'L', 'R', 'I', 'X', 'AB', 'Y', 'F', 'H']\n",
      "Generando muta\n",
      "Generando muta\n",
      "GENERACION ---37 MEJOR DISTANCIA----931.4246773748033 MEJOR_INDIVIDUO---['G', 'P', 'T', 'Q', 'V', 'Z', 'S', 'K', 'AA', 'W', 'O', 'E', 'A', 'U', 'C', 'M', 'B', 'D', 'N', 'J', 'L', 'R', 'I', 'X', 'AB', 'Y', 'F', 'H']\n",
      "GENERACION ---38 MEJOR DISTANCIA----931.4246773748033 MEJOR_INDIVIDUO---['G', 'P', 'T', 'Q', 'V', 'Z', 'S', 'K', 'AA', 'W', 'O', 'E', 'A', 'U', 'C', 'M', 'B', 'D', 'N', 'J', 'L', 'R', 'I', 'X', 'AB', 'Y', 'F', 'H']\n",
      "Generando muta\n",
      "GENERACION ---39 MEJOR DISTANCIA----931.4246773748033 MEJOR_INDIVIDUO---['G', 'P', 'T', 'Q', 'V', 'Z', 'S', 'K', 'AA', 'W', 'O', 'E', 'A', 'U', 'C', 'M', 'B', 'D', 'N', 'J', 'L', 'R', 'I', 'X', 'AB', 'Y', 'F', 'H']\n",
      "GENERACION ---40 MEJOR DISTANCIA----931.4246773748033 MEJOR_INDIVIDUO---['G', 'P', 'T', 'Q', 'V', 'Z', 'S', 'K', 'AA', 'W', 'O', 'E', 'A', 'U', 'C', 'M', 'B', 'D', 'N', 'J', 'L', 'R', 'I', 'X', 'AB', 'Y', 'F', 'H']\n",
      "GENERACION ---41 MEJOR DISTANCIA----931.4246773748033 MEJOR_INDIVIDUO---['G', 'P', 'T', 'Q', 'V', 'Z', 'S', 'K', 'AA', 'W', 'O', 'E', 'A', 'U', 'C', 'M', 'B', 'D', 'N', 'J', 'L', 'R', 'I', 'X', 'AB', 'Y', 'F', 'H']\n",
      "Generando muta\n",
      "GENERACION ---42 MEJOR DISTANCIA----931.4246773748033 MEJOR_INDIVIDUO---['G', 'P', 'T', 'Q', 'V', 'Z', 'S', 'K', 'AA', 'W', 'O', 'E', 'A', 'U', 'C', 'M', 'B', 'D', 'N', 'J', 'L', 'R', 'I', 'X', 'AB', 'Y', 'F', 'H']\n",
      "Generando muta\n",
      "Generando muta\n",
      "Generando muta\n",
      "GENERACION ---43 MEJOR DISTANCIA----931.4246773748033 MEJOR_INDIVIDUO---['G', 'P', 'T', 'Q', 'V', 'Z', 'S', 'K', 'AA', 'W', 'O', 'E', 'A', 'U', 'C', 'M', 'B', 'D', 'N', 'J', 'L', 'R', 'I', 'X', 'AB', 'Y', 'F', 'H']\n",
      "Generando muta\n",
      "Generando muta\n",
      "GENERACION ---44 MEJOR DISTANCIA----931.4246773748033 MEJOR_INDIVIDUO---['G', 'P', 'T', 'Q', 'V', 'Z', 'S', 'K', 'AA', 'W', 'O', 'E', 'A', 'U', 'C', 'M', 'B', 'D', 'N', 'J', 'L', 'R', 'I', 'X', 'AB', 'Y', 'F', 'H']\n",
      "Generando muta\n",
      "Generando muta\n",
      "GENERACION ---45 MEJOR DISTANCIA----931.4246773748033 MEJOR_INDIVIDUO---['G', 'P', 'T', 'Q', 'V', 'Z', 'S', 'K', 'AA', 'W', 'O', 'E', 'A', 'U', 'C', 'M', 'B', 'D', 'N', 'J', 'L', 'R', 'I', 'X', 'AB', 'Y', 'F', 'H']\n",
      "GENERACION ---46 MEJOR DISTANCIA----931.4246773748033 MEJOR_INDIVIDUO---['G', 'P', 'T', 'Q', 'V', 'Z', 'S', 'K', 'AA', 'W', 'O', 'E', 'A', 'U', 'C', 'M', 'B', 'D', 'N', 'J', 'L', 'R', 'I', 'X', 'AB', 'Y', 'F', 'H']\n",
      "Generando muta\n",
      "GENERACION ---47 MEJOR DISTANCIA----931.4246773748033 MEJOR_INDIVIDUO---['G', 'P', 'T', 'Q', 'V', 'Z', 'S', 'K', 'AA', 'W', 'O', 'E', 'A', 'U', 'C', 'M', 'B', 'D', 'N', 'J', 'L', 'R', 'I', 'X', 'AB', 'Y', 'F', 'H']\n",
      "Generando muta\n",
      "Generando muta\n",
      "GENERACION ---48 MEJOR DISTANCIA----913.0872432986573 MEJOR_INDIVIDUO---['G', 'P', 'T', 'Q', 'V', 'Z', 'S', 'K', 'AA', 'W', 'O', 'E', 'A', 'U', 'C', 'M', 'B', 'D', 'N', 'J', 'L', 'R', 'I', 'F', 'AB', 'Y', 'X', 'H']\n",
      "Generando muta\n",
      "GENERACION ---49 MEJOR DISTANCIA----931.4246773748033 MEJOR_INDIVIDUO---['G', 'P', 'T', 'Q', 'V', 'Z', 'S', 'K', 'AA', 'W', 'O', 'E', 'A', 'U', 'C', 'M', 'B', 'D', 'N', 'J', 'L', 'R', 'I', 'X', 'AB', 'Y', 'F', 'H']\n"
     ]
    }
   ],
   "execution_count": 90
  },
  {
   "metadata": {
    "ExecuteTime": {
     "end_time": "2024-08-14T15:09:48.011147Z",
     "start_time": "2024-08-14T15:09:47.983080Z"
    }
   },
   "cell_type": "code",
   "source": [
    "print(mejor_distancia)\n",
    "print(mejor_individuo)\n",
    "#obtener x y de cada individuo \n",
    "x = []\n",
    "y = []\n",
    "for gen in mejor_individuo:\n",
    "    x.append(data[data['Ciudad'] == gen].iloc[0]['x'])\n",
    "    y.append(data[data['Ciudad'] == gen].iloc[0]['y'])\n",
    "#print(y)\n",
    "    \n"
   ],
   "id": "3efe8eff38436b78",
   "outputs": [
    {
     "name": "stdout",
     "output_type": "stream",
     "text": [
      "931.4246773748033\n",
      "['G', 'P', 'T', 'Q', 'V', 'Z', 'S', 'K', 'AA', 'W', 'O', 'E', 'A', 'U', 'C', 'M', 'B', 'D', 'N', 'J', 'L', 'R', 'I', 'X', 'AB', 'Y', 'F', 'H']\n"
     ]
    }
   ],
   "execution_count": 91
  },
  {
   "metadata": {
    "ExecuteTime": {
     "end_time": "2024-08-14T15:09:48.146158Z",
     "start_time": "2024-08-14T15:09:48.011147Z"
    }
   },
   "cell_type": "code",
   "source": [
    "fig, ax = plt.subplots(figsize=(6,6))\n",
    "ax.plot(x,y,'-ro')\n",
    "cont = 0\n",
    "for i, text in enumerate(mejor_individuo):\n",
    "    txt = text+\" \"+str(cont)\n",
    "    ax.text(x[i],y[i],txt)\n",
    "    cont +=1\n",
    "plt.show()"
   ],
   "id": "e2db9497d15b4d50",
   "outputs": [
    {
     "data": {
      "text/plain": [
       "<Figure size 600x600 with 1 Axes>"
      ],
      "image/png": "[encoded data removed]"
     },
     "metadata": {},
     "output_type": "display_data"
    }
   ],
   "execution_count": 92
  },
  {
   "metadata": {
    "ExecuteTime": {
     "end_time": "2024-08-14T15:09:48.262367Z",
     "start_time": "2024-08-14T15:09:48.146158Z"
    }
   },
   "cell_type": "code",
   "source": [
    "fig, ax = plt.subplots(figsize=(5,5))\n",
    "ax.plot(hist_distancias,'-bp')\n",
    "plt.show()"
   ],
   "id": "b54e4b7a9b61a75b",
   "outputs": [
    {
     "data": {
      "text/plain": [
       "<Figure size 500x500 with 1 Axes>"
      ],
      "image/png": "[encoded data removed]"
     },
     "metadata": {},
     "output_type": "display_data"
    }
   ],
   "execution_count": 93
  },
  {
   "metadata": {
    "ExecuteTime": {
     "end_time": "2024-08-14T15:09:48.266584Z",
     "start_time": "2024-08-14T15:09:48.262367Z"
    }
   },
   "cell_type": "code",
   "source": "",
   "id": "624f2d0d06e4eb03",
   "outputs": [],
   "execution_count": 93
  }
 ],
 "metadata": {
  "kernelspec": {
   "display_name": "Python 3",
   "language": "python",
   "name": "python3"
  },
  "language_info": {
   "codemirror_mode": {
    "name": "ipython",
    "version": 2
   },
   "file_extension": ".py",
   "mimetype": "text/x-python",
   "name": "python",
   "nbconvert_exporter": "python",
   "pygments_lexer": "ipython2",
   "version": "2.7.6"
  }
 },
 "nbformat": 4,
 "nbformat_minor": 5
}
