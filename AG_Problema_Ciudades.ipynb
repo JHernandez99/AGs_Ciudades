{
 "cells": [
  {
   "metadata": {},
   "cell_type": "markdown",
   "source": [
    " ALGORITMO GENETICO TRADICIONAL PARA \n",
    "LA SOLUCION DEL PROBLEMA DE LAS CIUDADES   "
   ],
   "id": "6075700040b57d93"
  },
  {
   "metadata": {
    "jupyter": {
     "is_executing": true
    }
   },
   "cell_type": "code",
   "source": "import pandas as pd",
   "id": "d802e2f83c73e01",
   "outputs": [],
   "execution_count": null
  },
  {
   "metadata": {
    "jupyter": {
     "is_executing": true
    }
   },
   "cell_type": "code",
   "source": [
    "data = pd.read_excel('Ciudades.xlsx')\n",
    "data.describe()"
   ],
   "id": "bdf41fbfddd0a802",
   "outputs": [],
   "execution_count": null
  },
  {
   "metadata": {},
   "cell_type": "code",
   "outputs": [],
   "execution_count": null,
   "source": "",
   "id": "d0d44b085d70181d"
  }
 ],
 "metadata": {
  "kernelspec": {
   "display_name": "Python 3",
   "language": "python",
   "name": "python3"
  },
  "language_info": {
   "codemirror_mode": {
    "name": "ipython",
    "version": 2
   },
   "file_extension": ".py",
   "mimetype": "text/x-python",
   "name": "python",
   "nbconvert_exporter": "python",
   "pygments_lexer": "ipython2",
   "version": "2.7.6"
  }
 },
 "nbformat": 4,
 "nbformat_minor": 5
}
