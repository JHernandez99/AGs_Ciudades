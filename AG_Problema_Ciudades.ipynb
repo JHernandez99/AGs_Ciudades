{
 "cells": [
  {
   "metadata": {},
   "cell_type": "markdown",
   "source": [
    " ALGORITMO GENETICO TRADICIONAL PARA \n",
    "LA SOLUCION DEL PROBLEMA DE LAS CIUDADES   "
   ],
   "id": "6075700040b57d93"
  },
  {
   "metadata": {
    "ExecuteTime": {
     "end_time": "2024-08-07T19:56:50.825871Z",
     "start_time": "2024-08-07T19:56:50.822342Z"
    }
   },
   "cell_type": "code",
   "source": [
    "import pandas as pd\n",
    "import numpy as np\n",
    "import matplotlib.pyplot as plt\n",
    "import random"
   ],
   "id": "d802e2f83c73e01",
   "outputs": [],
   "execution_count": 69
  },
  {
   "metadata": {
    "ExecuteTime": {
     "end_time": "2024-08-07T19:56:50.886427Z",
     "start_time": "2024-08-07T19:56:50.861052Z"
    }
   },
   "cell_type": "code",
   "source": [
    "data = pd.read_excel('Ciudades.xlsx')\n",
    "data.describe()"
   ],
   "id": "bdf41fbfddd0a802",
   "outputs": [
    {
     "data": {
      "text/plain": [
       "               x          y\n",
       "count  20.000000  20.000000\n",
       "mean   49.850000  50.950000\n",
       "std    30.267709  27.496363\n",
       "min    10.000000  12.000000\n",
       "25%    26.500000  31.500000\n",
       "50%    50.000000  54.000000\n",
       "75%    77.750000  66.250000\n",
       "max    99.000000  99.000000"
      ],
      "text/html": [
       "<div>\n",
       "<style scoped>\n",
       "    .dataframe tbody tr th:only-of-type {\n",
       "        vertical-align: middle;\n",
       "    }\n",
       "\n",
       "    .dataframe tbody tr th {\n",
       "        vertical-align: top;\n",
       "    }\n",
       "\n",
       "    .dataframe thead th {\n",
       "        text-align: right;\n",
       "    }\n",
       "</style>\n",
       "<table border=\"1\" class=\"dataframe\">\n",
       "  <thead>\n",
       "    <tr style=\"text-align: right;\">\n",
       "      <th></th>\n",
       "      <th>x</th>\n",
       "      <th>y</th>\n",
       "    </tr>\n",
       "  </thead>\n",
       "  <tbody>\n",
       "    <tr>\n",
       "      <th>count</th>\n",
       "      <td>20.000000</td>\n",
       "      <td>20.000000</td>\n",
       "    </tr>\n",
       "    <tr>\n",
       "      <th>mean</th>\n",
       "      <td>49.850000</td>\n",
       "      <td>50.950000</td>\n",
       "    </tr>\n",
       "    <tr>\n",
       "      <th>std</th>\n",
       "      <td>30.267709</td>\n",
       "      <td>27.496363</td>\n",
       "    </tr>\n",
       "    <tr>\n",
       "      <th>min</th>\n",
       "      <td>10.000000</td>\n",
       "      <td>12.000000</td>\n",
       "    </tr>\n",
       "    <tr>\n",
       "      <th>25%</th>\n",
       "      <td>26.500000</td>\n",
       "      <td>31.500000</td>\n",
       "    </tr>\n",
       "    <tr>\n",
       "      <th>50%</th>\n",
       "      <td>50.000000</td>\n",
       "      <td>54.000000</td>\n",
       "    </tr>\n",
       "    <tr>\n",
       "      <th>75%</th>\n",
       "      <td>77.750000</td>\n",
       "      <td>66.250000</td>\n",
       "    </tr>\n",
       "    <tr>\n",
       "      <th>max</th>\n",
       "      <td>99.000000</td>\n",
       "      <td>99.000000</td>\n",
       "    </tr>\n",
       "  </tbody>\n",
       "</table>\n",
       "</div>"
      ]
     },
     "execution_count": 70,
     "metadata": {},
     "output_type": "execute_result"
    }
   ],
   "execution_count": 70
  },
  {
   "metadata": {
    "ExecuteTime": {
     "end_time": "2024-08-07T19:56:50.903091Z",
     "start_time": "2024-08-07T19:56:50.893066Z"
    }
   },
   "cell_type": "code",
   "source": "data.head(5)",
   "id": "d0d44b085d70181d",
   "outputs": [
    {
     "data": {
      "text/plain": [
       "  Ciudad     x     y\n",
       "0      A  10.0  12.0\n",
       "1      B  12.0  16.0\n",
       "2      C  22.0  22.0\n",
       "3      D  30.0  30.0\n",
       "4      E   NaN   NaN"
      ],
      "text/html": [
       "<div>\n",
       "<style scoped>\n",
       "    .dataframe tbody tr th:only-of-type {\n",
       "        vertical-align: middle;\n",
       "    }\n",
       "\n",
       "    .dataframe tbody tr th {\n",
       "        vertical-align: top;\n",
       "    }\n",
       "\n",
       "    .dataframe thead th {\n",
       "        text-align: right;\n",
       "    }\n",
       "</style>\n",
       "<table border=\"1\" class=\"dataframe\">\n",
       "  <thead>\n",
       "    <tr style=\"text-align: right;\">\n",
       "      <th></th>\n",
       "      <th>Ciudad</th>\n",
       "      <th>x</th>\n",
       "      <th>y</th>\n",
       "    </tr>\n",
       "  </thead>\n",
       "  <tbody>\n",
       "    <tr>\n",
       "      <th>0</th>\n",
       "      <td>A</td>\n",
       "      <td>10.0</td>\n",
       "      <td>12.0</td>\n",
       "    </tr>\n",
       "    <tr>\n",
       "      <th>1</th>\n",
       "      <td>B</td>\n",
       "      <td>12.0</td>\n",
       "      <td>16.0</td>\n",
       "    </tr>\n",
       "    <tr>\n",
       "      <th>2</th>\n",
       "      <td>C</td>\n",
       "      <td>22.0</td>\n",
       "      <td>22.0</td>\n",
       "    </tr>\n",
       "    <tr>\n",
       "      <th>3</th>\n",
       "      <td>D</td>\n",
       "      <td>30.0</td>\n",
       "      <td>30.0</td>\n",
       "    </tr>\n",
       "    <tr>\n",
       "      <th>4</th>\n",
       "      <td>E</td>\n",
       "      <td>NaN</td>\n",
       "      <td>NaN</td>\n",
       "    </tr>\n",
       "  </tbody>\n",
       "</table>\n",
       "</div>"
      ]
     },
     "execution_count": 71,
     "metadata": {},
     "output_type": "execute_result"
    }
   ],
   "execution_count": 71
  },
  {
   "metadata": {
    "ExecuteTime": {
     "end_time": "2024-08-07T19:56:50.919459Z",
     "start_time": "2024-08-07T19:56:50.905089Z"
    }
   },
   "cell_type": "code",
   "source": [
    "data = data.dropna(axis=0, how='any', ignore_index=True)\n",
    "data.head(100)\n"
   ],
   "id": "865442802d169660",
   "outputs": [
    {
     "data": {
      "text/plain": [
       "   Ciudad     x     y\n",
       "0       A  10.0  12.0\n",
       "1       B  12.0  16.0\n",
       "2       C  22.0  22.0\n",
       "3       D  30.0  30.0\n",
       "4       M  12.0  32.0\n",
       "5       N  16.0  42.0\n",
       "6       O  28.0  56.0\n",
       "7       P  28.0  12.0\n",
       "8       Q  62.0  55.0\n",
       "9       R  95.0  32.0\n",
       "10      S  84.0  53.0\n",
       "11      T  64.0  36.0\n",
       "12      U  31.0  62.0\n",
       "13      V  55.0  70.0\n",
       "14      W  45.0  55.0\n",
       "15      X  57.0  91.0\n",
       "16      Y  90.0  99.0\n",
       "17      Z  77.0  65.0\n",
       "18     AA  99.0  99.0\n",
       "19     AB  80.0  80.0"
      ],
      "text/html": [
       "<div>\n",
       "<style scoped>\n",
       "    .dataframe tbody tr th:only-of-type {\n",
       "        vertical-align: middle;\n",
       "    }\n",
       "\n",
       "    .dataframe tbody tr th {\n",
       "        vertical-align: top;\n",
       "    }\n",
       "\n",
       "    .dataframe thead th {\n",
       "        text-align: right;\n",
       "    }\n",
       "</style>\n",
       "<table border=\"1\" class=\"dataframe\">\n",
       "  <thead>\n",
       "    <tr style=\"text-align: right;\">\n",
       "      <th></th>\n",
       "      <th>Ciudad</th>\n",
       "      <th>x</th>\n",
       "      <th>y</th>\n",
       "    </tr>\n",
       "  </thead>\n",
       "  <tbody>\n",
       "    <tr>\n",
       "      <th>0</th>\n",
       "      <td>A</td>\n",
       "      <td>10.0</td>\n",
       "      <td>12.0</td>\n",
       "    </tr>\n",
       "    <tr>\n",
       "      <th>1</th>\n",
       "      <td>B</td>\n",
       "      <td>12.0</td>\n",
       "      <td>16.0</td>\n",
       "    </tr>\n",
       "    <tr>\n",
       "      <th>2</th>\n",
       "      <td>C</td>\n",
       "      <td>22.0</td>\n",
       "      <td>22.0</td>\n",
       "    </tr>\n",
       "    <tr>\n",
       "      <th>3</th>\n",
       "      <td>D</td>\n",
       "      <td>30.0</td>\n",
       "      <td>30.0</td>\n",
       "    </tr>\n",
       "    <tr>\n",
       "      <th>4</th>\n",
       "      <td>M</td>\n",
       "      <td>12.0</td>\n",
       "      <td>32.0</td>\n",
       "    </tr>\n",
       "    <tr>\n",
       "      <th>5</th>\n",
       "      <td>N</td>\n",
       "      <td>16.0</td>\n",
       "      <td>42.0</td>\n",
       "    </tr>\n",
       "    <tr>\n",
       "      <th>6</th>\n",
       "      <td>O</td>\n",
       "      <td>28.0</td>\n",
       "      <td>56.0</td>\n",
       "    </tr>\n",
       "    <tr>\n",
       "      <th>7</th>\n",
       "      <td>P</td>\n",
       "      <td>28.0</td>\n",
       "      <td>12.0</td>\n",
       "    </tr>\n",
       "    <tr>\n",
       "      <th>8</th>\n",
       "      <td>Q</td>\n",
       "      <td>62.0</td>\n",
       "      <td>55.0</td>\n",
       "    </tr>\n",
       "    <tr>\n",
       "      <th>9</th>\n",
       "      <td>R</td>\n",
       "      <td>95.0</td>\n",
       "      <td>32.0</td>\n",
       "    </tr>\n",
       "    <tr>\n",
       "      <th>10</th>\n",
       "      <td>S</td>\n",
       "      <td>84.0</td>\n",
       "      <td>53.0</td>\n",
       "    </tr>\n",
       "    <tr>\n",
       "      <th>11</th>\n",
       "      <td>T</td>\n",
       "      <td>64.0</td>\n",
       "      <td>36.0</td>\n",
       "    </tr>\n",
       "    <tr>\n",
       "      <th>12</th>\n",
       "      <td>U</td>\n",
       "      <td>31.0</td>\n",
       "      <td>62.0</td>\n",
       "    </tr>\n",
       "    <tr>\n",
       "      <th>13</th>\n",
       "      <td>V</td>\n",
       "      <td>55.0</td>\n",
       "      <td>70.0</td>\n",
       "    </tr>\n",
       "    <tr>\n",
       "      <th>14</th>\n",
       "      <td>W</td>\n",
       "      <td>45.0</td>\n",
       "      <td>55.0</td>\n",
       "    </tr>\n",
       "    <tr>\n",
       "      <th>15</th>\n",
       "      <td>X</td>\n",
       "      <td>57.0</td>\n",
       "      <td>91.0</td>\n",
       "    </tr>\n",
       "    <tr>\n",
       "      <th>16</th>\n",
       "      <td>Y</td>\n",
       "      <td>90.0</td>\n",
       "      <td>99.0</td>\n",
       "    </tr>\n",
       "    <tr>\n",
       "      <th>17</th>\n",
       "      <td>Z</td>\n",
       "      <td>77.0</td>\n",
       "      <td>65.0</td>\n",
       "    </tr>\n",
       "    <tr>\n",
       "      <th>18</th>\n",
       "      <td>AA</td>\n",
       "      <td>99.0</td>\n",
       "      <td>99.0</td>\n",
       "    </tr>\n",
       "    <tr>\n",
       "      <th>19</th>\n",
       "      <td>AB</td>\n",
       "      <td>80.0</td>\n",
       "      <td>80.0</td>\n",
       "    </tr>\n",
       "  </tbody>\n",
       "</table>\n",
       "</div>"
      ]
     },
     "execution_count": 72,
     "metadata": {},
     "output_type": "execute_result"
    }
   ],
   "execution_count": 72
  },
  {
   "metadata": {
    "ExecuteTime": {
     "end_time": "2024-08-07T19:56:50.928762Z",
     "start_time": "2024-08-07T19:56:50.921457Z"
    }
   },
   "cell_type": "code",
   "source": "data.count()",
   "id": "f3932c46fc2ab34e",
   "outputs": [
    {
     "data": {
      "text/plain": [
       "Ciudad    20\n",
       "x         20\n",
       "y         20\n",
       "dtype: int64"
      ]
     },
     "execution_count": 73,
     "metadata": {},
     "output_type": "execute_result"
    }
   ],
   "execution_count": 73
  },
  {
   "metadata": {
    "ExecuteTime": {
     "end_time": "2024-08-07T19:56:50.969572Z",
     "start_time": "2024-08-07T19:56:50.961809Z"
    }
   },
   "cell_type": "code",
   "source": [
    "lbls = data.iloc[:,0].values\n",
    "x = data.iloc[:, 1]\n",
    "y = data.iloc[:, 2]\n",
    "print(lbls)\n",
    "print(x)\n",
    "print(y)\n"
   ],
   "id": "ffc2f0ea2027258c",
   "outputs": [
    {
     "name": "stdout",
     "output_type": "stream",
     "text": [
      "['A' 'B' 'C' 'D' 'M' 'N' 'O' 'P' 'Q' 'R' 'S' 'T' 'U' 'V' 'W' 'X' 'Y' 'Z'\n",
      " 'AA' 'AB']\n",
      "0     10.0\n",
      "1     12.0\n",
      "2     22.0\n",
      "3     30.0\n",
      "4     12.0\n",
      "5     16.0\n",
      "6     28.0\n",
      "7     28.0\n",
      "8     62.0\n",
      "9     95.0\n",
      "10    84.0\n",
      "11    64.0\n",
      "12    31.0\n",
      "13    55.0\n",
      "14    45.0\n",
      "15    57.0\n",
      "16    90.0\n",
      "17    77.0\n",
      "18    99.0\n",
      "19    80.0\n",
      "Name: x, dtype: float64\n",
      "0     12.0\n",
      "1     16.0\n",
      "2     22.0\n",
      "3     30.0\n",
      "4     32.0\n",
      "5     42.0\n",
      "6     56.0\n",
      "7     12.0\n",
      "8     55.0\n",
      "9     32.0\n",
      "10    53.0\n",
      "11    36.0\n",
      "12    62.0\n",
      "13    70.0\n",
      "14    55.0\n",
      "15    91.0\n",
      "16    99.0\n",
      "17    65.0\n",
      "18    99.0\n",
      "19    80.0\n",
      "Name: y, dtype: float64\n"
     ]
    }
   ],
   "execution_count": 74
  },
  {
   "metadata": {
    "ExecuteTime": {
     "end_time": "2024-08-07T19:56:51.195732Z",
     "start_time": "2024-08-07T19:56:51.068657Z"
    }
   },
   "cell_type": "code",
   "source": [
    "fig, ax = plt.subplots()\n",
    "ax.plot(x,y,'ro')\n",
    "for i, text in enumerate(lbls):\n",
    "    #print(i)\n",
    "    #print(text)\n",
    "    ax.text(x[i],y[i],text)\n",
    "plt.show()"
   ],
   "id": "2f23c187b9061a97",
   "outputs": [
    {
     "data": {
      "text/plain": [
       "<Figure size 640x480 with 1 Axes>"
      ],
      "image/png": "[encoded data removed]"
     },
     "metadata": {},
     "output_type": "display_data"
    }
   ],
   "execution_count": 75
  },
  {
   "metadata": {},
   "cell_type": "markdown",
   "source": [
    "# Se inicia con el desarrollo del algoritmo genetico\n",
    "\n",
    "#### Generar poblacion aleatoria"
   ],
   "id": "ebef939a675b8894"
  },
  {
   "metadata": {
    "ExecuteTime": {
     "end_time": "2024-08-07T20:35:06.665682Z",
     "start_time": "2024-08-07T20:35:06.660674Z"
    }
   },
   "cell_type": "code",
   "source": [
    "def generarPoblacionAleatoria(tam_poblacion,labels):\n",
    "    poblacion = []\n",
    "    num_ciudades = len(lbls)\n",
    "    for i in range(tam_poblacion):\n",
    "        individuo = []\n",
    "        while(len(individuo) <num_ciudades):\n",
    "        #for j in range(num_ciudades):\n",
    "            label = random.choice(labels)\n",
    "            if label not in individuo:\n",
    "                individuo.append(label) \n",
    "        poblacion.append(individuo)\n",
    "    return poblacion"
   ],
   "id": "f897da60b86cb387",
   "outputs": [],
   "execution_count": 114
  },
  {
   "metadata": {},
   "cell_type": "markdown",
   "source": "### Evaluar la poblacion",
   "id": "bfde16c5f0c65e92"
  },
  {
   "metadata": {
    "ExecuteTime": {
     "end_time": "2024-08-07T20:35:08.057203Z",
     "start_time": "2024-08-07T20:35:08.052867Z"
    }
   },
   "cell_type": "code",
   "source": [
    "def fitness(poblacion,x,y):\n",
    "    distancias = []\n",
    "    for individuo in poblacion:\n",
    "        print(\"individo\")\n",
    "        for i in range(len(individuo)):\n",
    "            print(i)\n",
    "        "
   ],
   "id": "d510a507d5973e09",
   "outputs": [],
   "execution_count": 115
  },
  {
   "metadata": {
    "ExecuteTime": {
     "end_time": "2024-08-07T20:35:22.127546Z",
     "start_time": "2024-08-07T20:35:22.121934Z"
    }
   },
   "cell_type": "code",
   "source": [
    "poblacion = generarPoblacionAleatoria(20,lbls)\n",
    "#distancias = fitness(poblacion,x,y)\n",
    "print(len(poblacion))\n",
    "print(len(poblacion[0]))\n",
    "print(poblacion[0])"
   ],
   "id": "1ae60a3a7bc4097d",
   "outputs": [
    {
     "name": "stdout",
     "output_type": "stream",
     "text": [
      "20\n",
      "20\n",
      "['A', 'P', 'O', 'X', 'Y', 'B', 'D', 'C', 'N', 'V', 'R', 'AA', 'Z', 'M', 'T', 'Q', 'U', 'W', 'AB', 'S']\n"
     ]
    }
   ],
   "execution_count": 117
  },
  {
   "metadata": {
    "ExecuteTime": {
     "end_time": "2024-08-07T20:33:51.551945Z",
     "start_time": "2024-08-07T20:33:51.549553Z"
    }
   },
   "cell_type": "code",
   "source": "",
   "id": "252b49f11c1d12ff",
   "outputs": [],
   "execution_count": 109
  },
  {
   "metadata": {},
   "cell_type": "code",
   "outputs": [],
   "execution_count": null,
   "source": "",
   "id": "cd441efb22ab1d28"
  }
 ],
 "metadata": {
  "kernelspec": {
   "display_name": "Python 3",
   "language": "python",
   "name": "python3"
  },
  "language_info": {
   "codemirror_mode": {
    "name": "ipython",
    "version": 2
   },
   "file_extension": ".py",
   "mimetype": "text/x-python",
   "name": "python",
   "nbconvert_exporter": "python",
   "pygments_lexer": "ipython2",
   "version": "2.7.6"
  }
 },
 "nbformat": 4,
 "nbformat_minor": 5
}
